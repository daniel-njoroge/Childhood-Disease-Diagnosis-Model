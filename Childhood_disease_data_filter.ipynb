{
 "cells": [
  {
   "cell_type": "code",
   "execution_count": 30,
   "id": "2bd2ffba-d0ed-4ff3-8167-2e0b97a44f5d",
   "metadata": {},
   "outputs": [],
   "source": [
    "import pandas as pd\n",
    "data = pd.read_csv(\"Final_train_Data.csv\")"
   ]
  },
  {
   "cell_type": "code",
   "execution_count": 31,
   "id": "bb424b70",
   "metadata": {},
   "outputs": [],
   "source": [
    "if 'Unnamed: 0' in data.columns:\n",
    "    data = data.drop(columns=['Unnamed: 0'])"
   ]
  },
  {
   "cell_type": "code",
   "execution_count": 32,
   "id": "447aefac-723b-47b1-95dc-0d901b7fed4a",
   "metadata": {},
   "outputs": [
    {
     "name": "stdout",
     "output_type": "stream",
     "text": [
      "Available diseases in dataset: ['asthma', 'influenza', 'pneumonia', 'gastroenteritis', 'glaucoma', 'kidney disease', 'lymphoma', 'hepatitis B', 'colitis', 'hypoglycemia', 'hepatitis', 'failure kidney', 'bacteremia', 'ulcer peptic', 'anemia', 'epilepsy', 'ischemia', 'bronchitis']\n"
     ]
    }
   ],
   "source": [
    "target_diseases = [\n",
    "    'asthma', 'influenza', 'pneumonia', 'gastroenteritis', 'Diabetes', 'glaucoma',\n",
    "    'kidney disease', 'lymphoma', 'hepatitis B', 'colitis', 'hypoglycemia',\n",
    "    'hepatitis', 'failure kidney', 'bacteremia', 'ulcer peptic', 'anemia',\n",
    "    'epilepsy', 'ischemia', 'bronchitis'\n",
    "]\n",
    "\n",
    "irrelevant_symptoms = [\n",
    "    'angina pectoris', 'polyuria', 'orthopnea', 'feeling suicidal', 'motor retardation',\n",
    "    'verbal auditory hallucinations', 'dyspnea on exertion', 'jugular venous distention',\n",
    "    'st segment elevation', 'st segment depression', 't wave inverted', 'presence of q wave',\n",
    "    'bradycardia', 'nonsmoker', 'hemodynamically stable', 'monoclonal', 'tumor cell invasion',\n",
    "    'transaminitis', 'hypercapnia', 'patient non compliance', 'orthostasis', 'prostatism',\n",
    "    'cushingoid facies cushingoid habitus', 'decreased body weight', 'spontaneous rupture of membranes',\n",
    "    'breech presentation', 'metastatic lesion', 'hemianopsia homonymous', 'hematocrit decreased',\n",
    "    'hypometabolism', 'left atrial hypertrophy', 'gravida ', 'r wave feature', 'systolic murmur',\n",
    "    'painful swallowing', 'fremitus', 'Stahli\\'s line', 'hirsutism', 'decreased stool caliber',\n",
    "    'neologism', 'qt interval prolonged', 'Heberden\\'s node', 'sciatica', 'estrogen use',\n",
    "    'pain foot', 'urinary hesitation', 'slowing of urinary stream', 'pansystolic murmur',\n",
    "    'systolic ejection murmur', 'dysdiadochokinesia', 'achalasia', 'monocytosis', 'mediastinal shift',\n",
    "    'todd paralysis', 'alcoholic withdrawal symptoms', 'dyspareunia', 'poor dentition',\n",
    "    'adverse reaction adverse effect', 'primigravida', 'abnormally hard consistency', 'proteinemia',\n",
    "    'intermenstrual heavy bleeding', 'previous pregnancies ', 'hyperemesis', 'transsexual',\n",
    "    'pericardial friction rub', 'cardiovascular finding cardiovascular event', 'rhd positive',\n",
    "    'Murphy\\'s sign', 'alcohol binge episode', 'large-for-dates fetus', 'homicidal thoughts'\n",
    "]\n",
    "\n",
    "all_diagnoses = data.iloc[:, -1].unique()\n",
    "available_diseases = [d for d in target_diseases if d in all_diagnoses]\n",
    "print(\"Available diseases in dataset:\", available_diseases)\n",
    "\n",
    "if not available_diseases:\n",
    "    print(\"None of the specified diseases found in the dataset. Exiting.\")\n",
    "    exit()\n"
   ]
  },
  {
   "cell_type": "code",
   "execution_count": 33,
   "id": "a8864f1a-a0f6-4336-bb55-7e545260bd0f",
   "metadata": {},
   "outputs": [
    {
     "name": "stdout",
     "output_type": "stream",
     "text": [
      "Number of records after filtering diseases: 336\n",
      "prognosis\n",
      "anemia             31\n",
      "pneumonia          28\n",
      "bronchitis         25\n",
      "bacteremia         25\n",
      "influenza          21\n",
      "ischemia           19\n",
      "ulcer peptic       19\n",
      "epilepsy           19\n",
      "failure kidney     19\n",
      "colitis            19\n",
      "lymphoma           19\n",
      "hepatitis          19\n",
      "hypoglycemia       16\n",
      "asthma             13\n",
      "hepatitis B        13\n",
      "gastroenteritis    13\n",
      "glaucoma           11\n",
      "kidney disease      7\n",
      "Name: count, dtype: int64\n"
     ]
    }
   ],
   "source": [
    "#diseases filtered\n",
    "data_filtered = data[data.iloc[:, -1].isin(available_diseases)]\n",
    "print(f\"Number of records after filtering diseases: {len(data_filtered)}\")\n",
    "print(data_filtered.iloc[:, -1].value_counts())"
   ]
  },
  {
   "cell_type": "code",
   "execution_count": 34,
   "id": "69737d3f-855d-4304-bd9a-585cdd166179",
   "metadata": {},
   "outputs": [
    {
     "name": "stdout",
     "output_type": "stream",
     "text": [
      "Number of columns before filtering: 401\n",
      "Number of columns after removing irrelevant symptoms: 331\n"
     ]
    }
   ],
   "source": [
    "#irrelevant symptoms removed\n",
    "all_columns = data.columns.tolist()\n",
    "columns_to_keep = [col for col in all_columns if col not in irrelevant_symptoms]\n",
    "print(f\"Number of columns before filtering: {len(all_columns)}\")\n",
    "print(f\"Number of columns after removing irrelevant symptoms: {len(columns_to_keep)}\")\n",
    "data_final = data_filtered[columns_to_keep]"
   ]
  },
  {
   "cell_type": "code",
   "execution_count": 35,
   "id": "ce30830f-66c5-44a9-bac2-13c310d1233a",
   "metadata": {},
   "outputs": [],
   "source": [
    "output_file = \"Filtered_Childhood_Dataset.csv\"\n",
    "data_final.to_csv(output_file, index=False)"
   ]
  }
 ],
 "metadata": {
  "kernelspec": {
   "display_name": "base",
   "language": "python",
   "name": "python3"
  },
  "language_info": {
   "codemirror_mode": {
    "name": "ipython",
    "version": 3
   },
   "file_extension": ".py",
   "mimetype": "text/x-python",
   "name": "python",
   "nbconvert_exporter": "python",
   "pygments_lexer": "ipython3",
   "version": "3.12.7"
  }
 },
 "nbformat": 4,
 "nbformat_minor": 5
}
